{
  "nbformat": 4,
  "nbformat_minor": 0,
  "metadata": {
    "colab": {
      "name": "Singer-Scrape.ipynb",
      "provenance": [],
      "collapsed_sections": []
    },
    "kernelspec": {
      "name": "python3",
      "display_name": "Python 3"
    },
    "language_info": {
      "name": "python"
    }
  },
  "cells": [
    {
      "cell_type": "code",
      "metadata": {
        "id": "7OMo6ntD3JCS"
      },
      "source": [
        "import requests"
      ],
      "execution_count": null,
      "outputs": []
    },
    {
      "cell_type": "code",
      "metadata": {
        "id": "xviI6bAw4c-s"
      },
      "source": [
        "from bs4 import BeautifulSoup"
      ],
      "execution_count": null,
      "outputs": []
    },
    {
      "cell_type": "code",
      "metadata": {
        "id": "eajDNLY44rcf"
      },
      "source": [
        "from itertools import count"
      ],
      "execution_count": null,
      "outputs": []
    },
    {
      "cell_type": "code",
      "metadata": {
        "id": "pr6C-0L9dVjo"
      },
      "source": [
        "import json"
      ],
      "execution_count": null,
      "outputs": []
    },
    {
      "cell_type": "code",
      "metadata": {
        "id": "9V0M7NbBMK7x"
      },
      "source": [
        "import re"
      ],
      "execution_count": null,
      "outputs": []
    },
    {
      "cell_type": "markdown",
      "metadata": {
        "id": "fntLFG0_3N30"
      },
      "source": [
        "# Get list of singers"
      ]
    },
    {
      "cell_type": "code",
      "metadata": {
        "id": "UCFAnXpB7c0s"
      },
      "source": [
        "# fetch the url and create a beautiful soup object\n",
        "def getSoup(url):\n",
        "  response = requests.get(url)\n",
        "  return BeautifulSoup(response.text, 'html.parser')\n"
      ],
      "execution_count": null,
      "outputs": []
    },
    {
      "cell_type": "code",
      "metadata": {
        "id": "mQYxJjcA6MBp"
      },
      "source": [
        "# get links to singer's pages from given search result page\n",
        "def getSingerLinksFromPage(url, page):\n",
        "  url = f'{url}page/{page}'\n",
        "  soup = getSoup(url)\n",
        "  persons = soup.find_all('a', class_='person')\n",
        "  return [person.attrs['href'] for person in persons]"
      ],
      "execution_count": null,
      "outputs": []
    },
    {
      "cell_type": "code",
      "metadata": {
        "id": "XzXJ5KuB8SO0"
      },
      "source": [
        "# get links to singer's pages from all search result pages\n",
        "def getSingerLinks(url):\n",
        "  all_links = []\n",
        "  for i in count(1):\n",
        "    links = getSingerLinksFromPage(url, i)\n",
        "    if not links:\n",
        "      break\n",
        "    all_links.extend(links)\n",
        "  return all_links"
      ],
      "execution_count": null,
      "outputs": []
    },
    {
      "cell_type": "code",
      "metadata": {
        "id": "it9-7CU_6Mef"
      },
      "source": [
        "# PeoplePill search result page for Sri Lankan Singers\n",
        "url = 'https://peoplepill.com/browser/country/sri-lanka/occupation/singer/gender/all/years/all/'"
      ],
      "execution_count": null,
      "outputs": []
    },
    {
      "cell_type": "code",
      "metadata": {
        "id": "xZKVDQaF8QEk"
      },
      "source": [
        "singer_links = getSingerLinks(url)"
      ],
      "execution_count": null,
      "outputs": []
    },
    {
      "cell_type": "code",
      "metadata": {
        "id": "mWPFi6Do9KSl",
        "colab": {
          "base_uri": "https://localhost:8080/"
        },
        "outputId": "9e098a96-ae59-4a35-d71a-9e24a240c6c2"
      },
      "source": [
        "singer_links"
      ],
      "execution_count": null,
      "outputs": [
        {
          "output_type": "execute_result",
          "data": {
            "text/plain": [
              "['/people/sanka-dineth/',\n",
              " '/people/wally-bastian/',\n",
              " '/people/gunadasa-kapuge/',\n",
              " '/people/amarasiri-peiris/',\n",
              " '/people/desmond-de-silva/',\n",
              " '/people/indrachapa-liyanage/',\n",
              " '/people/nalin-jayawardena/',\n",
              " '/people/sadiris-master/',\n",
              " '/people/rookantha-gunathilake/',\n",
              " '/people/sisira-senaratne/',\n",
              " '/people/shelton-premaratne/',\n",
              " '/people/narada-disasekara/',\n",
              " '/people/neela-wickramasinghe/',\n",
              " '/people/c-t-fernando/',\n",
              " '/people/gratien-ananda/',\n",
              " '/people/rukshan-perera/',\n",
              " '/people/priya-suriyasena/',\n",
              " '/people/rohan-shantha-bulegoda/',\n",
              " '/people/milton-mallawarachchi/',\n",
              " '/people/saheli-rochana-gamage/',\n",
              " '/people/saman-de-silva/',\n",
              " '/people/tharanga-goonetilleke/',\n",
              " '/people/yolande-bavan/',\n",
              " '/people/mercy-edirisinghe/',\n",
              " '/people/nihal-nelson/',\n",
              " '/people/dinesh-kanagaratnam/',\n",
              " '/people/keerthi-pasquel/',\n",
              " '/people/sunil-perera/',\n",
              " '/people/anthony-c-perera/',\n",
              " '/people/jagath-wickramasinghe/',\n",
              " '/people/lionel-ranwala/',\n",
              " '/people/clarence-wijewardena/',\n",
              " '/people/freddie-silva/',\n",
              " '/people/vivienne-de-silva-boralessa/',\n",
              " '/people/vijaya-kumaranatunga/',\n",
              " '/people/mariazelle-goonetilleke/',\n",
              " '/people/sunil-santha/',\n",
              " '/people/mohideen-baig/',\n",
              " '/people/tariq/',\n",
              " '/people/lahiru-perera/',\n",
              " '/people/annesley-malewana/',\n",
              " '/people/tharaka-mahesh/',\n",
              " '/people/edward-jayakody/',\n",
              " '/people/cliff-foenander/',\n",
              " '/people/mignonne-fernando/',\n",
              " '/people/j-a-milton-perera/',\n",
              " '/people/kasun-kalhara/',\n",
              " '/people/shihan-mihiranga-bennet/',\n",
              " '/people/anton-jones/',\n",
              " '/people/rukmani-devi/',\n",
              " '/people/nimal-mendis/',\n",
              " '/people/kamal-addararachchi/',\n",
              " '/people/t-m-jayaratne/',\n",
              " '/people/gresha-schuilling/',\n",
              " '/people/m-s-fernando/',\n",
              " '/people/h-r-jothipala/',\n",
              " '/people/uresha-ravihari/',\n",
              " '/people/janith-weerasinghe/',\n",
              " '/people/sanath-nandasiri/',\n",
              " '/people/sunil-edirisinghe/',\n",
              " '/people/ajith-bandara/',\n",
              " '/people/w-d-amaradeva/',\n",
              " '/people/karunarathna-divulgane/',\n",
              " '/people/champa-kalhari/',\n",
              " '/people/chandralekha-perera/',\n",
              " '/people/nanda-malini/',\n",
              " '/people/ranil-mallawarachchi/',\n",
              " '/people/deepal-silva/',\n",
              " '/people/r-muttusamy/',\n",
              " '/people/victor-ratnayake/',\n",
              " '/people/ronnie-leitch/',\n",
              " '/people/dasun-madushan/',\n",
              " '/people/kharesma-ravichandran/',\n",
              " '/people/shashika-nisansala/',\n",
              " '/people/angeline-gunathilake/',\n",
              " '/people/latha-walpola/',\n",
              " '/people/ramesh-weeratunga/',\n",
              " '/people/ivor-dennis/',\n",
              " '/people/g-s-b-rani/',\n",
              " '/people/mihira-sa/']"
            ]
          },
          "metadata": {},
          "execution_count": 10
        }
      ]
    },
    {
      "cell_type": "markdown",
      "metadata": {
        "id": "OaxnK8fA-LyZ"
      },
      "source": [
        "# Get Singer Info"
      ]
    },
    {
      "cell_type": "code",
      "metadata": {
        "id": "iE3n9Mht-RXa"
      },
      "source": [
        "root_url = 'https://peoplepill.com'"
      ],
      "execution_count": null,
      "outputs": []
    },
    {
      "cell_type": "code",
      "metadata": {
        "id": "pcgyJ_tVVV_V"
      },
      "source": [
        "# extract info from singer's page\n",
        "def getSingerInfo(url):\n",
        "  soup = getSoup(root_url + url)\n",
        "  res = {}\n",
        "\n",
        "  res['name'] = soup.find('h1', class_='name').getText()\n",
        "  res['info'] = soup.find('div', class_='brief-bio').getText()\n",
        "\n",
        "  props = soup.select('tr.prop.border-bottom')\n",
        "  for prop in props:\n",
        "    label = prop.find(class_='label').getText().strip()\n",
        "    print(f'\\t{label}')\n",
        "    value = prop.find(class_='values').getText().strip()\n",
        "    res[label] = value\n",
        "  \n",
        "  body = soup.find('div', 'body html-content')\n",
        "  if body:\n",
        "    texts = body.find_all(['p', 'h1', 'h2', 'h3'], recursive=False)\n",
        "    text = ''\n",
        "    for i in texts:\n",
        "      text += i.get_text(separator='\\n')\n",
        "    res['description'] = text\n",
        "\n",
        "  return res"
      ],
      "execution_count": null,
      "outputs": []
    },
    {
      "cell_type": "code",
      "metadata": {
        "id": "HSbL51QdVWNZ"
      },
      "source": [
        ""
      ],
      "execution_count": null,
      "outputs": []
    },
    {
      "cell_type": "code",
      "metadata": {
        "colab": {
          "base_uri": "https://localhost:8080/"
        },
        "id": "g5QnTUJiXM2y",
        "outputId": "47c2d9d2-add5-4e4b-ceeb-913c1dc446d1"
      },
      "source": [
        "getSingerInfo('/people/ranil-mallawarachchi/')"
      ],
      "execution_count": null,
      "outputs": [
        {
          "output_type": "stream",
          "name": "stdout",
          "text": [
            "\tIntro\n",
            "\tIs\n",
            "\tFrom\n",
            "\tType\n",
            "\tGender\n",
            "\tBirth\n",
            "\tAge\n",
            "\tResidence\n",
            "\tFamily\n"
          ]
        },
        {
          "output_type": "execute_result",
          "data": {
            "text/plain": [
              "{'Age': '39 years',\n",
              " 'Birth': '12 April 1982, Sri Lanka',\n",
              " 'Family': 'Father:\\n\\nMilton Mallawarachchi',\n",
              " 'From': 'Sri Lanka',\n",
              " 'Gender': 'male',\n",
              " 'Intro': 'Sri Lankan musician',\n",
              " 'Is': 'Singer',\n",
              " 'Residence': 'Narre Warren',\n",
              " 'Type': 'Music',\n",
              " 'info': 'Sri Lankan musician',\n",
              " 'name': 'Ranil Mallawarachchi'}"
            ]
          },
          "metadata": {},
          "execution_count": 13
        }
      ]
    },
    {
      "cell_type": "code",
      "metadata": {
        "id": "Lh_9_VQNXM5t"
      },
      "source": [
        ""
      ],
      "execution_count": null,
      "outputs": []
    },
    {
      "cell_type": "code",
      "metadata": {
        "id": "nPvhgzaFXM8l",
        "colab": {
          "base_uri": "https://localhost:8080/"
        },
        "outputId": "0f50dd49-a0e2-405a-cd1d-cd596582ceb0"
      },
      "source": [
        "# extracting info from all singers\n",
        "singers = []\n",
        "for link in singer_links:\n",
        "  print(link)\n",
        "  info = getSingerInfo(link)\n",
        "  singers.append(info)"
      ],
      "execution_count": null,
      "outputs": [
        {
          "output_type": "stream",
          "name": "stdout",
          "text": [
            "/people/sanka-dineth/\n",
            "\tIntro\n",
            "\tIs\n",
            "\tFrom\n",
            "\tType\n",
            "\tGender\n",
            "\tBirth\n",
            "\tAge\n",
            "/people/wally-bastian/\n",
            "\tIntro\n",
            "\tIs\n",
            "\tFrom\n",
            "\tType\n",
            "\tGender\n",
            "\tDeath\n",
            "/people/gunadasa-kapuge/\n",
            "\tIntro\n",
            "\tWas\n",
            "\tFrom\n",
            "\tType\n",
            "\tGender\n",
            "\tBirth\n",
            "\tDeath\n",
            "\tStar sign\n",
            "/people/amarasiri-peiris/\n",
            "\tIntro\n",
            "\tIs\n",
            "\tFrom\n",
            "\tType\n",
            "\tGender\n",
            "\tProfiles\n",
            "/people/desmond-de-silva/\n",
            "\tIntro\n",
            "\tIs\n",
            "\tFrom\n",
            "\tType\n",
            "\tGender\n",
            "/people/indrachapa-liyanage/\n",
            "\tIntro\n",
            "\tIs\n",
            "\tFrom\n",
            "\tType\n",
            "\tGender\n",
            "\tBirth\n",
            "\tAge\n",
            "\tFamily\n",
            "/people/nalin-jayawardena/\n",
            "\tIntro\n",
            "\tIs\n",
            "\tFrom\n",
            "\tType\n",
            "\tGender\n",
            "\tBirth\n",
            "\tAge\n",
            "/people/sadiris-master/\n",
            "\tIntro\n",
            "\tA.K.A.\n",
            "\tIs\n",
            "\tFrom\n",
            "\tType\n",
            "\tGender\n",
            "\tBirth\n",
            "\tDeath\n",
            "/people/rookantha-gunathilake/\n",
            "\tIntro\n",
            "\tIs\n",
            "\tFrom\n",
            "\tType\n",
            "\tGender\n",
            "\tBirth\n",
            "\tAge\n",
            "\tFamily\n",
            "/people/sisira-senaratne/\n",
            "\tIntro\n",
            "\tIs\n",
            "\tFrom\n",
            "\tType\n",
            "\tGender\n",
            "\tBirth\n",
            "\tAge\n",
            "/people/shelton-premaratne/\n",
            "\tIntro\n",
            "\tIs\n",
            "\tFrom\n",
            "\tType\n",
            "\tGender\n",
            "\tBirth\n",
            "\tAge\n",
            "\tInstruments:\n",
            "/people/narada-disasekara/\n",
            "\tIntro\n",
            "\tIs\n",
            "\tFrom\n",
            "\tType\n",
            "\tGender\n",
            "\tBirth\n",
            "\tDeath\n",
            "\tStar sign\n",
            "\tInstruments:\n",
            "/people/neela-wickramasinghe/\n",
            "\tIntro\n",
            "\tIs\n",
            "\tFrom\n",
            "\tType\n",
            "\tGender\n",
            "\tBirth\n",
            "\tAge\n",
            "\tStar sign\n",
            "\tProfiles\n",
            "/people/c-t-fernando/\n",
            "\tIntro\n",
            "\tWas\n",
            "\tFrom\n",
            "\tType\n",
            "\tGender\n",
            "\tBirth\n",
            "\tDeath\n",
            "\tStar sign\n",
            "\tInstruments:\n",
            "/people/gratien-ananda/\n",
            "\tIntro\n",
            "\tWas\n",
            "\tFrom\n",
            "\tType\n",
            "\tGender\n",
            "\tBirth\n",
            "\tDeath\n",
            "\tStar sign\n",
            "/people/rukshan-perera/\n",
            "\tIntro\n",
            "\tIs\n",
            "\tFrom\n",
            "\tType\n",
            "\tGender\n",
            "\tBirth\n",
            "\tAge\n",
            "/people/priya-suriyasena/\n",
            "\tIntro\n",
            "\tIs\n",
            "\tFrom\n",
            "\tType\n",
            "\tGender\n",
            "\tBirth\n",
            "\tAge\n",
            "/people/rohan-shantha-bulegoda/\n",
            "\tIntro\n",
            "\tIs\n",
            "\tFrom\n",
            "\tType\n",
            "\tGender\n",
            "\tBirth\n",
            "/people/milton-mallawarachchi/\n",
            "\tIntro\n",
            "\tWas\n",
            "\tFrom\n",
            "\tType\n",
            "\tGender\n",
            "\tBirth\n",
            "\tDeath\n",
            "\tFamily\n",
            "/people/saheli-rochana-gamage/\n",
            "\tIntro\n",
            "\tIs\n",
            "\tFrom\n",
            "\tType\n",
            "\tGender\n",
            "\tBirth\n",
            "\tAge\n",
            "/people/saman-de-silva/\n",
            "\tIntro\n",
            "\tIs\n",
            "\tFrom\n",
            "\tType\n",
            "\tGender\n",
            "\tBirth\n",
            "/people/tharanga-goonetilleke/\n",
            "\tIntro\n",
            "\tIs\n",
            "\tFrom\n",
            "\tType\n",
            "\tGender\n",
            "\tBirth\n",
            "/people/yolande-bavan/\n",
            "\tIntro\n",
            "\tIs\n",
            "\tFrom\n",
            "\tType\n",
            "\tGender\n",
            "\tBirth\n",
            "\tAge\n",
            "\tStar sign\n",
            "/people/mercy-edirisinghe/\n",
            "\tIntro\n",
            "\tWas\n",
            "\tFrom\n",
            "\tType\n",
            "\tGender\n",
            "\tBirth\n",
            "\tDeath\n",
            "\tInstruments:\n",
            "/people/nihal-nelson/\n",
            "\tIntro\n",
            "\tIs\n",
            "\tFrom\n",
            "\tType\n",
            "\tGender\n",
            "\tBirth\n",
            "\tInstruments:\n",
            "\tProfiles\n",
            "/people/dinesh-kanagaratnam/\n",
            "\tIntro\n",
            "\tIs\n",
            "\tFrom\n",
            "\tType\n",
            "\tGender\n",
            "\tBirth\n",
            "\tAge\n",
            "\tStar sign\n",
            "\tInstruments:\n",
            "/people/keerthi-pasquel/\n",
            "\tIntro\n",
            "\tIs\n",
            "\tFrom\n",
            "\tType\n",
            "\tGender\n",
            "\tBirth\n",
            "\tAge\n",
            "\tEducation\n",
            "\tGenre:\n",
            "\tInstruments:\n",
            "/people/sunil-perera/\n",
            "\tIntro\n",
            "\tIs\n",
            "\tFrom\n",
            "\tType\n",
            "\tGender\n",
            "\tBirth\n",
            "\tAge\n",
            "\tStar sign\n",
            "\tEducation\n",
            "/people/anthony-c-perera/\n",
            "\tIntro\n",
            "\tWas\n",
            "\tFrom\n",
            "\tType\n",
            "\tGender\n",
            "\tBirth\n",
            "\tDeath\n",
            "\tStar sign\n",
            "/people/jagath-wickramasinghe/\n",
            "\tIntro\n",
            "\tIs\n",
            "\tFrom\n",
            "\tType\n",
            "\tGender\n",
            "\tBirth\n",
            "\tAge\n",
            "\tProfiles\n",
            "/people/lionel-ranwala/\n",
            "\tIntro\n",
            "\tWas\n",
            "\tFrom\n",
            "\tType\n",
            "\tGender\n",
            "\tBirth\n",
            "\tDeath\n",
            "/people/clarence-wijewardena/\n",
            "\tIntro\n",
            "\tWas\n",
            "\tFrom\n",
            "\tType\n",
            "\tGender\n",
            "\tBirth\n",
            "\tDeath\n",
            "/people/freddie-silva/\n",
            "\tIntro\n",
            "\tWas\n",
            "\tFrom\n",
            "\tType\n",
            "\tGender\n",
            "\tBirth\n",
            "\tDeath\n",
            "/people/vivienne-de-silva-boralessa/\n",
            "\tIntro\n",
            "\tWas\n",
            "\tFrom\n",
            "\tType\n",
            "\tGender\n",
            "\tBirth\n",
            "\tDeath\n",
            "/people/vijaya-kumaranatunga/\n",
            "\tIntro\n",
            "\tWas\n",
            "\tFrom\n",
            "\tType\n",
            "\tGender\n",
            "\tBirth\n",
            "\tDeath\n",
            "\tStar sign\n",
            "\tPolitics\n",
            "\tFamily\n",
            "/people/mariazelle-goonetilleke/\n",
            "\tIntro\n",
            "\tIs\n",
            "\tFrom\n",
            "\tType\n",
            "\tGender\n",
            "/people/sunil-santha/\n",
            "\tIntro\n",
            "\tWas\n",
            "\tFrom\n",
            "\tType\n",
            "\tGender\n",
            "\tBirth\n",
            "\tDeath\n",
            "/people/mohideen-baig/\n",
            "\tIntro\n",
            "\tWas\n",
            "\tFrom\n",
            "\tType\n",
            "\tGender\n",
            "\tBirth\n",
            "\tDeath\n",
            "\tStar sign\n",
            "\tInstruments:\n",
            "/people/tariq/\n",
            "\tIntro\n",
            "\tIs\n",
            "\tFrom\n",
            "\tType\n",
            "\tGender\n",
            "\tBirth\n",
            "\tAge\n",
            "\tStar sign\n",
            "\tInstruments:\n",
            "\tProfiles\n",
            "/people/lahiru-perera/\n",
            "\tIntro\n",
            "\tA.K.A.\n",
            "\tIs\n",
            "\tFrom\n",
            "\tType\n",
            "\tGender\n",
            "\tBirth\n",
            "\tAge\n",
            "\tStar sign\n",
            "\tProfiles\n",
            "/people/annesley-malewana/\n",
            "\tIntro\n",
            "\tIs\n",
            "\tFrom\n",
            "\tType\n",
            "\tGender\n",
            "\tInstruments:\n",
            "/people/tharaka-mahesh/\n",
            "\tIntro\n",
            "\tKnown for\n",
            "\tA.K.A.\n",
            "\tIs\n",
            "\tFrom\n",
            "\tGender\n",
            "\tBirth\n",
            "\tAge\n",
            "\tResidence\n",
            "\tFamily\n",
            "\tStats\n",
            "\tEducation\n",
            "\tNotable Works\n",
            "\tProfiles\n",
            "/people/edward-jayakody/\n",
            "\tIntro\n",
            "\tIs\n",
            "\tFrom\n",
            "\tType\n",
            "\tGender\n",
            "\tBirth\n",
            "\tAge\n",
            "/people/cliff-foenander/\n",
            "\tIntro\n",
            "\tIs\n",
            "\tFrom\n",
            "\tType\n",
            "\tGender\n",
            "\tDeath\n",
            "/people/mignonne-fernando/\n",
            "\tIntro\n",
            "\tIs\n",
            "\tFrom\n",
            "\tType\n",
            "\tGender\n",
            "\tBirth\n",
            "\tAge\n",
            "/people/j-a-milton-perera/\n",
            "\tIntro\n",
            "\tWas\n",
            "\tFrom\n",
            "\tType\n",
            "\tGender\n",
            "\tBirth\n",
            "\tDeath\n",
            "/people/kasun-kalhara/\n",
            "\tIntro\n",
            "\tIs\n",
            "\tFrom\n",
            "\tType\n",
            "\tGender\n",
            "\tBirth\n",
            "\tAge\n",
            "/people/shihan-mihiranga-bennet/\n",
            "\tIntro\n",
            "\tIs\n",
            "\tFrom\n",
            "\tType\n",
            "\tGender\n",
            "\tBirth\n",
            "\tAge\n",
            "\tProfiles\n",
            "/people/anton-jones/\n",
            "\tIntro\n",
            "\tIs\n",
            "\tFrom\n",
            "\tType\n",
            "\tGender\n",
            "\tDeath\n",
            "/people/rukmani-devi/\n",
            "\tIntro\n",
            "\tWas\n",
            "\tFrom\n",
            "\tType\n",
            "\tGender\n",
            "\tBirth\n",
            "\tDeath\n",
            "\tFamily\n",
            "/people/nimal-mendis/\n",
            "\tIntro\n",
            "\tWas\n",
            "\tFrom\n",
            "\tType\n",
            "\tGender\n",
            "\tBirth\n",
            "\tDeath\n",
            "/people/kamal-addararachchi/\n",
            "\tIntro\n",
            "\tIs\n",
            "\tFrom\n",
            "\tType\n",
            "\tGender\n",
            "\tBirth\n",
            "\tAge\n",
            "/people/t-m-jayaratne/\n",
            "\tIntro\n",
            "\tIs\n",
            "\tFrom\n",
            "\tType\n",
            "\tGender\n",
            "\tBirth\n",
            "\tAge\n",
            "\tStar sign\n",
            "\tEducation\n",
            "\tInstruments:\n",
            "/people/gresha-schuilling/\n",
            "\tIntro\n",
            "\tIs\n",
            "\tFrom\n",
            "\tType\n",
            "\tGender\n",
            "\tBirth\n",
            "\tAge\n",
            "\tInstruments:\n",
            "/people/m-s-fernando/\n",
            "\tIntro\n",
            "\tWas\n",
            "\tFrom\n",
            "\tType\n",
            "\tGender\n",
            "\tBirth\n",
            "\tDeath\n",
            "\tStar sign\n",
            "\tInstruments:\n",
            "/people/h-r-jothipala/\n",
            "\tIntro\n",
            "\tWas\n",
            "\tFrom\n",
            "\tType\n",
            "\tGender\n",
            "\tBirth\n",
            "\tDeath\n",
            "\tStar sign\n",
            "/people/uresha-ravihari/\n",
            "\tIntro\n",
            "\tIs\n",
            "\tFrom\n",
            "\tType\n",
            "\tGender\n",
            "\tBirth\n",
            "\tAge\n",
            "\tStar sign\n",
            "/people/janith-weerasinghe/\n",
            "\tIntro\n",
            "\tA.K.A.\n",
            "\tIs\n",
            "\tFrom\n",
            "\tGender\n",
            "\tBirth\n",
            "\tAge\n",
            "\tFamily\n",
            "\tEducation\n",
            "\tProfiles\n",
            "/people/sanath-nandasiri/\n",
            "\tIntro\n",
            "\tIs\n",
            "\tFrom\n",
            "\tType\n",
            "\tGender\n",
            "\tBirth\n",
            "\tAge\n",
            "/people/sunil-edirisinghe/\n",
            "\tIntro\n",
            "\tIs\n",
            "\tFrom\n",
            "\tType\n",
            "\tGender\n",
            "\tBirth\n",
            "\tAge\n",
            "\tProfiles\n",
            "/people/ajith-bandara/\n",
            "\tIntro\n",
            "\tIs\n",
            "\tFrom\n",
            "\tType\n",
            "\tGender\n",
            "/people/w-d-amaradeva/\n",
            "\tIntro\n",
            "\tA.K.A.\n",
            "\tWas\n",
            "\tFrom\n",
            "\tType\n",
            "\tGender\n",
            "\tBirth\n",
            "\tDeath\n",
            "/people/karunarathna-divulgane/\n",
            "\tIntro\n",
            "\tIs\n",
            "\tFrom\n",
            "\tType\n",
            "\tGender\n",
            "/people/champa-kalhari/\n",
            "\tIntro\n",
            "\tIs\n",
            "\tFrom\n",
            "\tType\n",
            "\tGender\n",
            "\tBirth\n",
            "\tAge\n",
            "/people/chandralekha-perera/\n",
            "\tIntro\n",
            "\tIs\n",
            "\tFrom\n",
            "\tType\n",
            "\tGender\n",
            "\tBirth\n",
            "\tAge\n",
            "\tFamily\n",
            "/people/nanda-malini/\n",
            "\tIntro\n",
            "\tIs\n",
            "\tFrom\n",
            "\tType\n",
            "\tGender\n",
            "\tBirth\n",
            "\tAge\n",
            "/people/ranil-mallawarachchi/\n",
            "\tIntro\n",
            "\tIs\n",
            "\tFrom\n",
            "\tType\n",
            "\tGender\n",
            "\tBirth\n",
            "\tAge\n",
            "\tResidence\n",
            "\tFamily\n",
            "/people/deepal-silva/\n",
            "\tWas\n",
            "\tFrom\n",
            "\tType\n",
            "\tGender\n",
            "\tBirth\n",
            "\tDeath\n",
            "/people/r-muttusamy/\n",
            "\tIntro\n",
            "\tWas\n",
            "\tFrom\n",
            "\tType\n",
            "\tGender\n",
            "\tBirth\n",
            "\tDeath\n",
            "/people/victor-ratnayake/\n",
            "\tIntro\n",
            "\tIs\n",
            "\tFrom\n",
            "\tType\n",
            "\tGender\n",
            "\tBirth\n",
            "\tAge\n",
            "\tProfiles\n",
            "/people/ronnie-leitch/\n",
            "\tIntro\n",
            "\tA.K.A.\n",
            "\tWas\n",
            "\tFrom\n",
            "\tType\n",
            "\tGender\n",
            "\tBirth\n",
            "\tDeath\n",
            "/people/dasun-madushan/\n",
            "\tIntro\n",
            "\tIs\n",
            "\tFrom\n",
            "\tType\n",
            "\tGender\n",
            "\tBirth\n",
            "\tAge\n",
            "\tStar sign\n",
            "/people/kharesma-ravichandran/\n",
            "\tIntro\n",
            "\tIs\n",
            "\tFrom\n",
            "\tType\n",
            "\tGender\n",
            "\tBirth\n",
            "\tAge\n",
            "\tStar sign\n",
            "\tInstruments:\n",
            "/people/shashika-nisansala/\n",
            "\tIntro\n",
            "\tIs\n",
            "\tFrom\n",
            "\tType\n",
            "\tGender\n",
            "\tBirth\n",
            "\tAge\n",
            "\tStar sign\n",
            "\tInstruments:\n",
            "/people/angeline-gunathilake/\n",
            "\tIntro\n",
            "\tWas\n",
            "\tFrom\n",
            "\tType\n",
            "\tGender\n",
            "\tBirth\n",
            "\tDeath\n",
            "\tStar sign\n",
            "/people/latha-walpola/\n",
            "\tIntro\n",
            "\tIs\n",
            "\tFrom\n",
            "\tType\n",
            "\tGender\n",
            "\tBirth\n",
            "\tAge\n",
            "\tStar sign\n",
            "\tFamily\n",
            "\tInstruments:\n",
            "/people/ramesh-weeratunga/\n",
            "\tIntro\n",
            "\tWas\n",
            "\tFrom\n",
            "\tType\n",
            "\tGender\n",
            "\tBirth\n",
            "\tDeath\n",
            "\tInstruments:\n",
            "\tProfiles\n",
            "/people/ivor-dennis/\n",
            "\tIntro\n",
            "\tWas\n",
            "\tFrom\n",
            "\tType\n",
            "\tGender\n",
            "\tBirth\n",
            "\tDeath\n",
            "\tStar sign\n",
            "/people/g-s-b-rani/\n",
            "\tIntro\n",
            "\tWas\n",
            "\tFrom\n",
            "\tType\n",
            "\tGender\n",
            "\tBirth\n",
            "\tDeath\n",
            "\tStar sign\n",
            "/people/mihira-sa/\n",
            "\tIntro\n",
            "\tKnown for\n",
            "\tA.K.A.\n",
            "\tIs\n",
            "\tFrom\n",
            "\tGender\n",
            "\tBirth\n",
            "\tAge\n",
            "\tProfiles\n"
          ]
        }
      ]
    },
    {
      "cell_type": "code",
      "metadata": {
        "id": "Yz-I_VXBXM_h"
      },
      "source": [
        "singers"
      ],
      "execution_count": null,
      "outputs": []
    },
    {
      "cell_type": "code",
      "metadata": {
        "id": "lQ2gfBN3XNCE"
      },
      "source": [
        "# write to file\n",
        "with open('singers_raw.json', 'w') as fout:\n",
        "     fout.write(json.dumps(singers))"
      ],
      "execution_count": null,
      "outputs": []
    },
    {
      "cell_type": "code",
      "metadata": {
        "id": "CGdvDcbODveE"
      },
      "source": [
        ""
      ],
      "execution_count": null,
      "outputs": []
    },
    {
      "cell_type": "code",
      "metadata": {
        "id": "onoAHln94pJu"
      },
      "source": [
        ""
      ],
      "execution_count": null,
      "outputs": []
    },
    {
      "cell_type": "markdown",
      "metadata": {
        "id": "s5bG8wn64peM"
      },
      "source": [
        "#Translate to Sinhala with google translate"
      ]
    },
    {
      "cell_type": "code",
      "metadata": {
        "colab": {
          "base_uri": "https://localhost:8080/"
        },
        "id": "JEPQBwlY4wO9",
        "outputId": "c16c58f5-f66a-4fba-9693-1a9e53641214"
      },
      "source": [
        "!pip install mtranslate"
      ],
      "execution_count": null,
      "outputs": [
        {
          "output_type": "stream",
          "name": "stdout",
          "text": [
            "Collecting mtranslate\n",
            "  Downloading mtranslate-1.8.tar.gz (2.4 kB)\n",
            "Building wheels for collected packages: mtranslate\n",
            "  Building wheel for mtranslate (setup.py) ... \u001b[?25l\u001b[?25hdone\n",
            "  Created wheel for mtranslate: filename=mtranslate-1.8-py3-none-any.whl size=3694 sha256=1b3c58209260a9e00725c0607f4a0cb5b4a89de5e6499c24a040f9f247207e4c\n",
            "  Stored in directory: /root/.cache/pip/wheels/a4/5d/18/6ea549ba042f5f29728049065bdc8a5cdb3c88a413bb026c9a\n",
            "Successfully built mtranslate\n",
            "Installing collected packages: mtranslate\n",
            "Successfully installed mtranslate-1.8\n"
          ]
        }
      ]
    },
    {
      "cell_type": "code",
      "metadata": {
        "id": "nLE9dZ2v4wRX"
      },
      "source": [
        "from mtranslate import translate"
      ],
      "execution_count": null,
      "outputs": []
    },
    {
      "cell_type": "code",
      "metadata": {
        "id": "iy4ut-7-5hgz"
      },
      "source": [
        ""
      ],
      "execution_count": null,
      "outputs": []
    },
    {
      "cell_type": "code",
      "metadata": {
        "id": "JoaSIP_d5hle"
      },
      "source": [
        "# load data\n",
        "singers = []\n",
        "with open('singers_raw.json', 'r') as fin:\n",
        "     singers = json.loads(fin.read())"
      ],
      "execution_count": null,
      "outputs": []
    },
    {
      "cell_type": "code",
      "metadata": {
        "id": "wcUAtPzn5hoV"
      },
      "source": [
        ""
      ],
      "execution_count": null,
      "outputs": []
    },
    {
      "cell_type": "code",
      "metadata": {
        "id": "dCK9SSDr5hrC"
      },
      "source": [
        "# translate a single string to Sinhala\n",
        "def translate_si(txt):\n",
        "  lines = txt.split('\\n')\n",
        "  lst = ['']\n",
        "  res = ''\n",
        "  for i in lines:\n",
        "    if len(lst[-1]) + len(i) < 5000:\n",
        "      lst[-1] += '\\n\\n' + i\n",
        "    else:\n",
        "      lst.append('\\n\\n' + i)\n",
        "  for i in lst:\n",
        "    res += '\\n\\n' + translate(i, 'si', 'en')\n",
        "  res = re.sub(r'\\n\\s*\\n', '\\n\\n', res)\n",
        "  return res[2:]\n"
      ],
      "execution_count": null,
      "outputs": []
    },
    {
      "cell_type": "code",
      "metadata": {
        "id": "J-nUwMLV9B8u"
      },
      "source": [
        "# singers = [singers[0]]"
      ],
      "execution_count": null,
      "outputs": []
    },
    {
      "cell_type": "code",
      "metadata": {
        "id": "uYyd1hIT9CEl"
      },
      "source": [
        "# translate all of Singers fields to Sinhala\n",
        "singers_si = []\n",
        "for i, singer in enumerate(singers):\n",
        "  print(f'translating singer: {i}')\n",
        "  singer_si = {}\n",
        "  for k, v in singer.items():\n",
        "    singer_si[k] = translate_si(v)\n",
        "  singers_si.append(singer_si)"
      ],
      "execution_count": null,
      "outputs": []
    },
    {
      "cell_type": "code",
      "metadata": {
        "id": "e1r2Vt5gEuI1"
      },
      "source": [
        "# singers[31]['description']"
      ],
      "execution_count": null,
      "outputs": []
    },
    {
      "cell_type": "code",
      "metadata": {
        "id": "CaruNrZj9CIF"
      },
      "source": [
        "# translate_si(singers[31]['description'])"
      ],
      "execution_count": null,
      "outputs": []
    },
    {
      "cell_type": "code",
      "metadata": {
        "id": "e8or2cJM9CMW"
      },
      "source": [
        "# for singer in singers_si:\n",
        "#   for k, v in singer.items():\n",
        "#     print(k, v)"
      ],
      "execution_count": null,
      "outputs": []
    },
    {
      "cell_type": "code",
      "metadata": {
        "id": "uxzXi9TP9CQH"
      },
      "source": [
        ""
      ],
      "execution_count": null,
      "outputs": []
    },
    {
      "cell_type": "code",
      "metadata": {
        "id": "GDAJuLf2HVTQ"
      },
      "source": [
        "# writing data to file\n",
        "with open('singers_si_raw.json', 'w', encoding='utf-8') as fout:\n",
        "     fout.write(json.dumps(singers_si, ensure_ascii=False))"
      ],
      "execution_count": null,
      "outputs": []
    },
    {
      "cell_type": "code",
      "metadata": {
        "id": "07FokBdgHVVm"
      },
      "source": [
        ""
      ],
      "execution_count": null,
      "outputs": []
    },
    {
      "cell_type": "code",
      "metadata": {
        "id": "Lg13Ju0mHVX2"
      },
      "source": [
        ""
      ],
      "execution_count": null,
      "outputs": []
    },
    {
      "cell_type": "code",
      "metadata": {
        "id": "15PYkp61fX3Z"
      },
      "source": [
        ""
      ],
      "execution_count": null,
      "outputs": []
    },
    {
      "cell_type": "markdown",
      "metadata": {
        "id": "tHqu9mH2bcYR"
      },
      "source": [
        "# Clean data"
      ]
    },
    {
      "cell_type": "code",
      "metadata": {
        "id": "QhWnCENHfRVd"
      },
      "source": [
        "# convert field names to lower case"
      ],
      "execution_count": null,
      "outputs": []
    },
    {
      "cell_type": "code",
      "metadata": {
        "id": "v23jIzCRgU8w"
      },
      "source": [
        "singers_si = []\n",
        "with open('singers_si.json', 'r') as fin:\n",
        "     singers_si = json.loads(fin.read())"
      ],
      "execution_count": null,
      "outputs": []
    },
    {
      "cell_type": "code",
      "metadata": {
        "id": "dnZGX0MqfcCM"
      },
      "source": [
        "singers_1 = []\n",
        "for i, singer in enumerate(singers_si):\n",
        "  singer_tmp = {}\n",
        "  for k, v in singer.items():\n",
        "    singer_tmp[k.lower()] =v\n",
        "  singers_1.append(singer_tmp)"
      ],
      "execution_count": null,
      "outputs": []
    },
    {
      "cell_type": "code",
      "metadata": {
        "id": "GGoQkK34fcEy"
      },
      "source": [
        "with open('singers_si.json', 'w', encoding='utf-8') as fout:\n",
        "     fout.write(json.dumps(singers_1, ensure_ascii=False))"
      ],
      "execution_count": null,
      "outputs": []
    },
    {
      "cell_type": "code",
      "metadata": {
        "id": "4ayLeiByfQF3"
      },
      "source": [
        ""
      ],
      "execution_count": null,
      "outputs": []
    },
    {
      "cell_type": "code",
      "metadata": {
        "id": "nIdqOTxqbek0"
      },
      "source": [
        "from collections import defaultdict"
      ],
      "execution_count": null,
      "outputs": []
    },
    {
      "cell_type": "code",
      "metadata": {
        "colab": {
          "base_uri": "https://localhost:8080/"
        },
        "id": "HGck-sUtbgzI",
        "outputId": "a104ca18-3b8a-48b9-f546-68ee54e5b6c8"
      },
      "source": [
        "# list all the fields \n",
        "stat = defaultdict(int)\n",
        "for i, singer in enumerate(singers_1):\n",
        "  for k, v in singer.items():\n",
        "    stat[k] += 1\n",
        "sorted_stat = sorted(stat.items(), key=lambda x: -x[1])\n",
        "for k, v in sorted_stat:\n",
        "  print(k.ljust(20), str(v).rjust(3))\n",
        "\n",
        "print([k for k, v in sorted_stat])\n",
        "fields = [k for k, v in sorted_stat[:10]]\n",
        "print(fields)"
      ],
      "execution_count": null,
      "outputs": [
        {
          "output_type": "stream",
          "name": "stdout",
          "text": [
            "name                  80\n",
            "info                  80\n",
            "from                  80\n",
            "gender                80\n",
            "intro                 79\n",
            "description           78\n",
            "type                  77\n",
            "birth                 71\n",
            "is                    54\n",
            "age                   39\n",
            "death                 31\n",
            "was                   26\n",
            "star sign             24\n",
            "instruments:          17\n",
            "profiles              13\n",
            "family                10\n",
            "a.k.a.                 7\n",
            "education              5\n",
            "known for              2\n",
            "residence              2\n",
            "genre:                 1\n",
            "politics               1\n",
            "stats                  1\n",
            "notable works          1\n",
            "['name', 'info', 'from', 'gender', 'intro', 'description', 'type', 'birth', 'is', 'age', 'death', 'was', 'star sign', 'instruments:', 'profiles', 'family', 'a.k.a.', 'education', 'known for', 'residence', 'genre:', 'politics', 'stats', 'notable works']\n",
            "['name', 'info', 'from', 'gender', 'intro', 'description', 'type', 'birth', 'is', 'age']\n"
          ]
        }
      ]
    },
    {
      "cell_type": "code",
      "metadata": {
        "id": "jawK5IeVbg1x"
      },
      "source": [
        "# singers_2 = []\n",
        "# for i, singer in enumerate(singers_1):\n",
        "#   singer_tmp = {}\n",
        "#   for k, v in singer.items():\n",
        "#     if k in fields:\n",
        "#       singer_tmp[k] =v\n",
        "#   singers_2.append(singer_tmp)"
      ],
      "execution_count": null,
      "outputs": []
    },
    {
      "cell_type": "code",
      "metadata": {
        "id": "dmBEq_Frbg72"
      },
      "source": [
        ""
      ],
      "execution_count": null,
      "outputs": []
    },
    {
      "cell_type": "code",
      "metadata": {
        "id": "0Nl5v42Ybg-c"
      },
      "source": [
        ""
      ],
      "execution_count": null,
      "outputs": []
    }
  ]
}